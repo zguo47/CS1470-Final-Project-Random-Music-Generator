{
 "cells": [
  {
   "cell_type": "code",
   "execution_count": 1,
   "metadata": {},
   "outputs": [],
   "source": [
    "import glob\n",
    "import os\n",
    "import numpy as np\n",
    "import pandas as pd\n",
    "import tensorflow as tf \n",
    "from statistics import mode"
   ]
  },
  {
   "cell_type": "code",
   "execution_count": 2,
   "metadata": {},
   "outputs": [],
   "source": [
    "#incomplete prepare data method for us to check features\n",
    "def prepare_data(meta_filename, filepath, \\\n",
    "    use_composer = True, use_composition = True, use_movement = True, use_ensemble = True):\n",
    "    \"\"\"\n",
    "    main method to prepare data.\n",
    "    params:\n",
    "    meta_filename is the file name of the meta files\n",
    "    filepath is the path of the folder that contains all the data\n",
    "    use_* indicates whether to use those meta features as the data feature \n",
    "    \"\"\"\n",
    "    def load_music_data(filepath):\n",
    "        all_filenames = glob.glob(filepath + \"/*.csv\")\n",
    "        music_data = []\n",
    "        for filename in all_filenames:\n",
    "            temp = pd.read_csv(filename)\n",
    "            temp['id'] = os.path.basename(filename[:-4])\n",
    "            music_data.append(temp)\n",
    "        music_data = pd.concat(music_data, axis=0, ignore_index=True)\n",
    "        music_data['id'] = music_data['id'].astype(str).astype(int)\n",
    "\n",
    "        return music_data\n",
    "        \n",
    "    #load meta-data\n",
    "    meta_data = pd.read_csv(meta_filename)\n",
    "\n",
    "    #load music\n",
    "    music_data = load_music_data(filepath)\n",
    "\n",
    "    #merge two data\n",
    "    all_data = meta_data.merge(music_data, on = 'id')\n",
    "    all_data = all_data.drop(['source', 'transcriber', 'catalog_name'], axis=1)\n",
    "\n",
    "    return all_data"
   ]
  },
  {
   "cell_type": "code",
   "execution_count": 3,
   "metadata": {},
   "outputs": [
    {
     "name": "stdout",
     "output_type": "stream",
     "text": [
      "There are 10 compositions included:\n",
      "['Cello Suite 4' 'Piano Sonata No 30 in E major' 'Piano Sonata in C minor'\n",
      " 'Quartet No 53 in D major' 'Serenade in E-flat major'\n",
      " 'Sextet in E-flat major for Winds' 'String Quartet No 13 in B-flat major'\n",
      " 'Violin Partita No 3 in E major' 'Violin Sonata No 10 in G major'\n",
      " 'WTK I, No. 5: Prelude and Fugue in D major']\n"
     ]
    }
   ],
   "source": [
    "data = prepare_data('/Users/zyl/Desktop/CS1470/FinalProject/data/musicnet_metadata.csv', \n",
    "'/Users/zyl/Desktop/CS1470/FinalProject/data/musicnet/test_labels')\n",
    "\n",
    "composition = np.unique(data['composition'].to_numpy())\n",
    "print(f'There are {len(composition)} compositions included:')\n",
    "print(composition)"
   ]
  },
  {
   "cell_type": "code",
   "execution_count": 4,
   "metadata": {},
   "outputs": [
    {
     "name": "stdout",
     "output_type": "stream",
     "text": [
      "{'D', 'E', 'for', 'Suite', 'C', 'E-flat', 'B-flat', 'G'}\n"
     ]
    }
   ],
   "source": [
    "print(set([c.split()[-2] for c in composition]))"
   ]
  },
  {
   "cell_type": "code",
   "execution_count": 5,
   "metadata": {},
   "outputs": [
    {
     "name": "stdout",
     "output_type": "stream",
     "text": [
      "28\n",
      "95\n"
     ]
    }
   ],
   "source": [
    "notes = data['note'].to_numpy()\n",
    "print(min(notes))\n",
    "print(max(notes))"
   ]
  },
  {
   "cell_type": "code",
   "execution_count": 6,
   "metadata": {},
   "outputs": [],
   "source": [
    "def calculate_degree(notes, keys):\n",
    "    print(\"all unique keys: \", np.unique(keys))\n",
    "    print(\"shape of notes array: \", np.array(notes).shape)\n",
    "    re = []\n",
    "    for (n, k) in zip(notes, keys):\n",
    "        diff = (n % 12) - k\n",
    "        diff = diff + 12 if diff < 0 else diff\n",
    "        re.append(diff)\n",
    "    \n",
    "    return np.array(re)\n",
    "\n",
    "def find_keys(all_data):\n",
    "    ref = {'C':0, 'C-sharp':1, 'D-flat':1, 'D':2, 'D-sharp':3, 'E-flat':3, 'E':4, \\\n",
    "        'F':5, 'F-sharp':6, 'G-flat':6, 'G':7, 'G-sharp':8, 'A-flat':8, 'A':9, \n",
    "        'A-sharp':10, 'B-flat':10, 'B':11}\n",
    "\n",
    "    data = np.array(all_data['composition'])\n",
    "    unresolved = []\n",
    "\n",
    "    for i, d in enumerate(data):\n",
    "        if d.split()[-2] in ref:\n",
    "            data[i] = ref[d.split()[-2]]\n",
    "        else:\n",
    "            if d not in unresolved:\n",
    "                unresolved.append(d)\n",
    "    \n",
    "    unresolved_dict = {}\n",
    "    for composition in unresolved:\n",
    "        notes_in_piece = np.array(all_data[all_data['composition'] == composition]['note'])\n",
    "        notes_in_piece = [i % 12 for i in notes_in_piece]\n",
    "        #we assume the key is the most common note in the piece\n",
    "        unresolved_dict[composition] = mode(notes_in_piece)\n",
    "\n",
    "    for i, d in enumerate(data):\n",
    "        if d in unresolved_dict.keys():\n",
    "            data[i] = unresolved_dict[d]\n",
    "\n",
    "    return np.array(data)"
   ]
  },
  {
   "cell_type": "code",
   "execution_count": 7,
   "metadata": {},
   "outputs": [
    {
     "name": "stdout",
     "output_type": "stream",
     "text": [
      "all unique keys:  [0 2 3 4 7 10]\n",
      "shape of notes array:  (13589,)\n"
     ]
    },
    {
     "data": {
      "text/html": [
       "<div>\n",
       "<style scoped>\n",
       "    .dataframe tbody tr th:only-of-type {\n",
       "        vertical-align: middle;\n",
       "    }\n",
       "\n",
       "    .dataframe tbody tr th {\n",
       "        vertical-align: top;\n",
       "    }\n",
       "\n",
       "    .dataframe thead th {\n",
       "        text-align: right;\n",
       "    }\n",
       "</style>\n",
       "<table border=\"1\" class=\"dataframe\">\n",
       "  <thead>\n",
       "    <tr style=\"text-align: right;\">\n",
       "      <th></th>\n",
       "      <th>id</th>\n",
       "      <th>composer</th>\n",
       "      <th>composition</th>\n",
       "      <th>movement</th>\n",
       "      <th>ensemble</th>\n",
       "      <th>seconds</th>\n",
       "      <th>start_time</th>\n",
       "      <th>end_time</th>\n",
       "      <th>instrument</th>\n",
       "      <th>note</th>\n",
       "      <th>start_beat</th>\n",
       "      <th>end_beat</th>\n",
       "      <th>note_value</th>\n",
       "      <th>note_degree</th>\n",
       "    </tr>\n",
       "  </thead>\n",
       "  <tbody>\n",
       "    <tr>\n",
       "      <th>0</th>\n",
       "      <td>1759</td>\n",
       "      <td>Schubert</td>\n",
       "      <td>Piano Sonata in C minor</td>\n",
       "      <td>3. Menuetto and Trio</td>\n",
       "      <td>Solo Piano</td>\n",
       "      <td>194</td>\n",
       "      <td>90078</td>\n",
       "      <td>124382</td>\n",
       "      <td>1</td>\n",
       "      <td>63</td>\n",
       "      <td>0.0</td>\n",
       "      <td>1.000</td>\n",
       "      <td>Quarter</td>\n",
       "      <td>3</td>\n",
       "    </tr>\n",
       "    <tr>\n",
       "      <th>1</th>\n",
       "      <td>1759</td>\n",
       "      <td>Schubert</td>\n",
       "      <td>Piano Sonata in C minor</td>\n",
       "      <td>3. Menuetto and Trio</td>\n",
       "      <td>Solo Piano</td>\n",
       "      <td>194</td>\n",
       "      <td>90078</td>\n",
       "      <td>124382</td>\n",
       "      <td>1</td>\n",
       "      <td>75</td>\n",
       "      <td>0.0</td>\n",
       "      <td>1.000</td>\n",
       "      <td>Quarter</td>\n",
       "      <td>3</td>\n",
       "    </tr>\n",
       "    <tr>\n",
       "      <th>2</th>\n",
       "      <td>1759</td>\n",
       "      <td>Schubert</td>\n",
       "      <td>Piano Sonata in C minor</td>\n",
       "      <td>3. Menuetto and Trio</td>\n",
       "      <td>Solo Piano</td>\n",
       "      <td>194</td>\n",
       "      <td>90078</td>\n",
       "      <td>110558</td>\n",
       "      <td>1</td>\n",
       "      <td>48</td>\n",
       "      <td>0.0</td>\n",
       "      <td>0.375</td>\n",
       "      <td>Dotted Sixteenth</td>\n",
       "      <td>0</td>\n",
       "    </tr>\n",
       "    <tr>\n",
       "      <th>3</th>\n",
       "      <td>1759</td>\n",
       "      <td>Schubert</td>\n",
       "      <td>Piano Sonata in C minor</td>\n",
       "      <td>3. Menuetto and Trio</td>\n",
       "      <td>Solo Piano</td>\n",
       "      <td>194</td>\n",
       "      <td>114654</td>\n",
       "      <td>122334</td>\n",
       "      <td>1</td>\n",
       "      <td>55</td>\n",
       "      <td>0.5</td>\n",
       "      <td>0.375</td>\n",
       "      <td>Dotted Sixteenth</td>\n",
       "      <td>7</td>\n",
       "    </tr>\n",
       "    <tr>\n",
       "      <th>4</th>\n",
       "      <td>1759</td>\n",
       "      <td>Schubert</td>\n",
       "      <td>Piano Sonata in C minor</td>\n",
       "      <td>3. Menuetto and Trio</td>\n",
       "      <td>Solo Piano</td>\n",
       "      <td>194</td>\n",
       "      <td>124382</td>\n",
       "      <td>139742</td>\n",
       "      <td>1</td>\n",
       "      <td>65</td>\n",
       "      <td>1.0</td>\n",
       "      <td>1.000</td>\n",
       "      <td>Quarter</td>\n",
       "      <td>5</td>\n",
       "    </tr>\n",
       "  </tbody>\n",
       "</table>\n",
       "</div>"
      ],
      "text/plain": [
       "     id  composer              composition              movement    ensemble  \\\n",
       "0  1759  Schubert  Piano Sonata in C minor  3. Menuetto and Trio  Solo Piano   \n",
       "1  1759  Schubert  Piano Sonata in C minor  3. Menuetto and Trio  Solo Piano   \n",
       "2  1759  Schubert  Piano Sonata in C minor  3. Menuetto and Trio  Solo Piano   \n",
       "3  1759  Schubert  Piano Sonata in C minor  3. Menuetto and Trio  Solo Piano   \n",
       "4  1759  Schubert  Piano Sonata in C minor  3. Menuetto and Trio  Solo Piano   \n",
       "\n",
       "   seconds  start_time  end_time  instrument  note  start_beat  end_beat  \\\n",
       "0      194       90078    124382           1    63         0.0     1.000   \n",
       "1      194       90078    124382           1    75         0.0     1.000   \n",
       "2      194       90078    110558           1    48         0.0     0.375   \n",
       "3      194      114654    122334           1    55         0.5     0.375   \n",
       "4      194      124382    139742           1    65         1.0     1.000   \n",
       "\n",
       "         note_value  note_degree  \n",
       "0           Quarter            3  \n",
       "1           Quarter            3  \n",
       "2  Dotted Sixteenth            0  \n",
       "3  Dotted Sixteenth            7  \n",
       "4           Quarter            5  "
      ]
     },
     "execution_count": 7,
     "metadata": {},
     "output_type": "execute_result"
    }
   ],
   "source": [
    "#see if check note degree works\n",
    "data = prepare_data('/Users/zyl/Desktop/CS1470/FinalProject/data/musicnet_metadata.csv', \n",
    "'/Users/zyl/Desktop/CS1470/FinalProject/data/musicnet/test_labels')\n",
    "data['note_degree'] = calculate_degree(data['note'].to_numpy(), find_keys(data))\n",
    "data.head()"
   ]
  },
  {
   "cell_type": "code",
   "execution_count": 8,
   "metadata": {},
   "outputs": [
    {
     "name": "stdout",
     "output_type": "stream",
     "text": [
      "['1. Prelude' '2. Prestissimo' '2. Presto' '3. Menuetto and Trio'\n",
      " '3. Menuetto. Quasi Allegretto - Trio' '3. Menuetto: Allegretto'\n",
      " '3. Scherzo: Allegro - Trio' '4. Menuetto' '6. Bourree' '6. Gigue']\n"
     ]
    }
   ],
   "source": [
    "print(np.unique(data['movement']))"
   ]
  },
  {
   "cell_type": "code",
   "execution_count": 9,
   "metadata": {},
   "outputs": [],
   "source": [
    "def one_hot_encoding(array):\n",
    "    #print(np.unique(array))\n",
    "    value_dict = {value : index for index, value in enumerate(np.unique(array))}\n",
    "    #print(value_dict)\n",
    "    array_trans = [value_dict[value] for value in array]\n",
    "    ohe = tf.one_hot(array_trans, len(value_dict))\n",
    "    return list(ohe)"
   ]
  },
  {
   "cell_type": "code",
   "execution_count": 10,
   "metadata": {},
   "outputs": [
    {
     "name": "stdout",
     "output_type": "stream",
     "text": [
      "tf.Tensor([0. 0. 0. 1. 0. 0. 0. 0. 0. 0.], shape=(10,), dtype=float32)\n",
      "tf.Tensor([0. 0. 0. 0. 0. 1. 0. 0. 0. 0.], shape=(10,), dtype=float32)\n"
     ]
    }
   ],
   "source": [
    "data['movement_ohe'] = one_hot_encoding(data['movement'])\n",
    "print(data['movement_ohe'][0])\n",
    "print(data['movement_ohe'][5000])"
   ]
  },
  {
   "cell_type": "code",
   "execution_count": 11,
   "metadata": {},
   "outputs": [
    {
     "name": "stdout",
     "output_type": "stream",
     "text": [
      "['Bach' 'Beethoven' 'Haydn' 'Mozart' 'Schubert']\n"
     ]
    }
   ],
   "source": [
    "print(np.unique(data['composer']))"
   ]
  },
  {
   "cell_type": "code",
   "execution_count": 12,
   "metadata": {},
   "outputs": [
    {
     "name": "stdout",
     "output_type": "stream",
     "text": [
      "tf.Tensor([0. 0. 0. 0. 1.], shape=(5,), dtype=float32)\n",
      "tf.Tensor([0. 0. 1. 0. 0.], shape=(5,), dtype=float32)\n"
     ]
    }
   ],
   "source": [
    "data['composer_ohe'] = one_hot_encoding(data['composer'].to_numpy())\n",
    "print(data['composer_ohe'][0])\n",
    "print(data['composer_ohe'][5000])"
   ]
  },
  {
   "cell_type": "code",
   "execution_count": 13,
   "metadata": {},
   "outputs": [
    {
     "name": "stdout",
     "output_type": "stream",
     "text": [
      "['Accompanied Violin' 'Pairs Clarinet-Horn-Bassoon' 'Solo Cello'\n",
      " 'Solo Piano' 'Solo Violin' 'String Quartet']\n"
     ]
    }
   ],
   "source": [
    "print(np.unique(data['ensemble']))"
   ]
  },
  {
   "cell_type": "code",
   "execution_count": 14,
   "metadata": {},
   "outputs": [
    {
     "name": "stdout",
     "output_type": "stream",
     "text": [
      "tf.Tensor([0. 0. 0. 1. 0. 0.], shape=(6,), dtype=float32)\n",
      "tf.Tensor([0. 0. 0. 0. 0. 1.], shape=(6,), dtype=float32)\n"
     ]
    }
   ],
   "source": [
    "data['ensemble_ohe'] = one_hot_encoding(data['ensemble'])\n",
    "print(data['ensemble_ohe'][0])\n",
    "print(data['ensemble_ohe'][5000])"
   ]
  },
  {
   "cell_type": "code",
   "execution_count": 15,
   "metadata": {},
   "outputs": [
    {
     "data": {
      "text/html": [
       "<div>\n",
       "<style scoped>\n",
       "    .dataframe tbody tr th:only-of-type {\n",
       "        vertical-align: middle;\n",
       "    }\n",
       "\n",
       "    .dataframe tbody tr th {\n",
       "        vertical-align: top;\n",
       "    }\n",
       "\n",
       "    .dataframe thead th {\n",
       "        text-align: right;\n",
       "    }\n",
       "</style>\n",
       "<table border=\"1\" class=\"dataframe\">\n",
       "  <thead>\n",
       "    <tr style=\"text-align: right;\">\n",
       "      <th></th>\n",
       "      <th>id</th>\n",
       "      <th>composer</th>\n",
       "      <th>composition</th>\n",
       "      <th>movement</th>\n",
       "      <th>ensemble</th>\n",
       "      <th>seconds</th>\n",
       "      <th>start_time</th>\n",
       "      <th>end_time</th>\n",
       "      <th>instrument</th>\n",
       "      <th>note</th>\n",
       "      <th>start_beat</th>\n",
       "      <th>end_beat</th>\n",
       "      <th>note_value</th>\n",
       "      <th>note_degree</th>\n",
       "      <th>movement_ohe</th>\n",
       "      <th>composer_ohe</th>\n",
       "      <th>ensemble_ohe</th>\n",
       "    </tr>\n",
       "  </thead>\n",
       "  <tbody>\n",
       "    <tr>\n",
       "      <th>0</th>\n",
       "      <td>1759</td>\n",
       "      <td>Schubert</td>\n",
       "      <td>Piano Sonata in C minor</td>\n",
       "      <td>3. Menuetto and Trio</td>\n",
       "      <td>Solo Piano</td>\n",
       "      <td>194</td>\n",
       "      <td>90078</td>\n",
       "      <td>124382</td>\n",
       "      <td>1</td>\n",
       "      <td>63</td>\n",
       "      <td>0.0</td>\n",
       "      <td>1.000</td>\n",
       "      <td>Quarter</td>\n",
       "      <td>3</td>\n",
       "      <td>(tf.Tensor(0.0, shape=(), dtype=float32), tf.T...</td>\n",
       "      <td>(tf.Tensor(0.0, shape=(), dtype=float32), tf.T...</td>\n",
       "      <td>(tf.Tensor(0.0, shape=(), dtype=float32), tf.T...</td>\n",
       "    </tr>\n",
       "    <tr>\n",
       "      <th>1</th>\n",
       "      <td>1759</td>\n",
       "      <td>Schubert</td>\n",
       "      <td>Piano Sonata in C minor</td>\n",
       "      <td>3. Menuetto and Trio</td>\n",
       "      <td>Solo Piano</td>\n",
       "      <td>194</td>\n",
       "      <td>90078</td>\n",
       "      <td>124382</td>\n",
       "      <td>1</td>\n",
       "      <td>75</td>\n",
       "      <td>0.0</td>\n",
       "      <td>1.000</td>\n",
       "      <td>Quarter</td>\n",
       "      <td>3</td>\n",
       "      <td>(tf.Tensor(0.0, shape=(), dtype=float32), tf.T...</td>\n",
       "      <td>(tf.Tensor(0.0, shape=(), dtype=float32), tf.T...</td>\n",
       "      <td>(tf.Tensor(0.0, shape=(), dtype=float32), tf.T...</td>\n",
       "    </tr>\n",
       "    <tr>\n",
       "      <th>2</th>\n",
       "      <td>1759</td>\n",
       "      <td>Schubert</td>\n",
       "      <td>Piano Sonata in C minor</td>\n",
       "      <td>3. Menuetto and Trio</td>\n",
       "      <td>Solo Piano</td>\n",
       "      <td>194</td>\n",
       "      <td>90078</td>\n",
       "      <td>110558</td>\n",
       "      <td>1</td>\n",
       "      <td>48</td>\n",
       "      <td>0.0</td>\n",
       "      <td>0.375</td>\n",
       "      <td>Dotted Sixteenth</td>\n",
       "      <td>0</td>\n",
       "      <td>(tf.Tensor(0.0, shape=(), dtype=float32), tf.T...</td>\n",
       "      <td>(tf.Tensor(0.0, shape=(), dtype=float32), tf.T...</td>\n",
       "      <td>(tf.Tensor(0.0, shape=(), dtype=float32), tf.T...</td>\n",
       "    </tr>\n",
       "    <tr>\n",
       "      <th>3</th>\n",
       "      <td>1759</td>\n",
       "      <td>Schubert</td>\n",
       "      <td>Piano Sonata in C minor</td>\n",
       "      <td>3. Menuetto and Trio</td>\n",
       "      <td>Solo Piano</td>\n",
       "      <td>194</td>\n",
       "      <td>114654</td>\n",
       "      <td>122334</td>\n",
       "      <td>1</td>\n",
       "      <td>55</td>\n",
       "      <td>0.5</td>\n",
       "      <td>0.375</td>\n",
       "      <td>Dotted Sixteenth</td>\n",
       "      <td>7</td>\n",
       "      <td>(tf.Tensor(0.0, shape=(), dtype=float32), tf.T...</td>\n",
       "      <td>(tf.Tensor(0.0, shape=(), dtype=float32), tf.T...</td>\n",
       "      <td>(tf.Tensor(0.0, shape=(), dtype=float32), tf.T...</td>\n",
       "    </tr>\n",
       "    <tr>\n",
       "      <th>4</th>\n",
       "      <td>1759</td>\n",
       "      <td>Schubert</td>\n",
       "      <td>Piano Sonata in C minor</td>\n",
       "      <td>3. Menuetto and Trio</td>\n",
       "      <td>Solo Piano</td>\n",
       "      <td>194</td>\n",
       "      <td>124382</td>\n",
       "      <td>139742</td>\n",
       "      <td>1</td>\n",
       "      <td>65</td>\n",
       "      <td>1.0</td>\n",
       "      <td>1.000</td>\n",
       "      <td>Quarter</td>\n",
       "      <td>5</td>\n",
       "      <td>(tf.Tensor(0.0, shape=(), dtype=float32), tf.T...</td>\n",
       "      <td>(tf.Tensor(0.0, shape=(), dtype=float32), tf.T...</td>\n",
       "      <td>(tf.Tensor(0.0, shape=(), dtype=float32), tf.T...</td>\n",
       "    </tr>\n",
       "  </tbody>\n",
       "</table>\n",
       "</div>"
      ],
      "text/plain": [
       "     id  composer              composition              movement    ensemble  \\\n",
       "0  1759  Schubert  Piano Sonata in C minor  3. Menuetto and Trio  Solo Piano   \n",
       "1  1759  Schubert  Piano Sonata in C minor  3. Menuetto and Trio  Solo Piano   \n",
       "2  1759  Schubert  Piano Sonata in C minor  3. Menuetto and Trio  Solo Piano   \n",
       "3  1759  Schubert  Piano Sonata in C minor  3. Menuetto and Trio  Solo Piano   \n",
       "4  1759  Schubert  Piano Sonata in C minor  3. Menuetto and Trio  Solo Piano   \n",
       "\n",
       "   seconds  start_time  end_time  instrument  note  start_beat  end_beat  \\\n",
       "0      194       90078    124382           1    63         0.0     1.000   \n",
       "1      194       90078    124382           1    75         0.0     1.000   \n",
       "2      194       90078    110558           1    48         0.0     0.375   \n",
       "3      194      114654    122334           1    55         0.5     0.375   \n",
       "4      194      124382    139742           1    65         1.0     1.000   \n",
       "\n",
       "         note_value  note_degree  \\\n",
       "0           Quarter            3   \n",
       "1           Quarter            3   \n",
       "2  Dotted Sixteenth            0   \n",
       "3  Dotted Sixteenth            7   \n",
       "4           Quarter            5   \n",
       "\n",
       "                                        movement_ohe  \\\n",
       "0  (tf.Tensor(0.0, shape=(), dtype=float32), tf.T...   \n",
       "1  (tf.Tensor(0.0, shape=(), dtype=float32), tf.T...   \n",
       "2  (tf.Tensor(0.0, shape=(), dtype=float32), tf.T...   \n",
       "3  (tf.Tensor(0.0, shape=(), dtype=float32), tf.T...   \n",
       "4  (tf.Tensor(0.0, shape=(), dtype=float32), tf.T...   \n",
       "\n",
       "                                        composer_ohe  \\\n",
       "0  (tf.Tensor(0.0, shape=(), dtype=float32), tf.T...   \n",
       "1  (tf.Tensor(0.0, shape=(), dtype=float32), tf.T...   \n",
       "2  (tf.Tensor(0.0, shape=(), dtype=float32), tf.T...   \n",
       "3  (tf.Tensor(0.0, shape=(), dtype=float32), tf.T...   \n",
       "4  (tf.Tensor(0.0, shape=(), dtype=float32), tf.T...   \n",
       "\n",
       "                                        ensemble_ohe  \n",
       "0  (tf.Tensor(0.0, shape=(), dtype=float32), tf.T...  \n",
       "1  (tf.Tensor(0.0, shape=(), dtype=float32), tf.T...  \n",
       "2  (tf.Tensor(0.0, shape=(), dtype=float32), tf.T...  \n",
       "3  (tf.Tensor(0.0, shape=(), dtype=float32), tf.T...  \n",
       "4  (tf.Tensor(0.0, shape=(), dtype=float32), tf.T...  "
      ]
     },
     "execution_count": 15,
     "metadata": {},
     "output_type": "execute_result"
    }
   ],
   "source": [
    "data.head()"
   ]
  },
  {
   "cell_type": "code",
   "execution_count": 1,
   "metadata": {},
   "outputs": [
    {
     "data": {
      "text/html": [
       "<div>\n",
       "<style scoped>\n",
       "    .dataframe tbody tr th:only-of-type {\n",
       "        vertical-align: middle;\n",
       "    }\n",
       "\n",
       "    .dataframe tbody tr th {\n",
       "        vertical-align: top;\n",
       "    }\n",
       "\n",
       "    .dataframe thead th {\n",
       "        text-align: right;\n",
       "    }\n",
       "</style>\n",
       "<table border=\"1\" class=\"dataframe\">\n",
       "  <thead>\n",
       "    <tr style=\"text-align: right;\">\n",
       "      <th></th>\n",
       "      <th>id</th>\n",
       "      <th>composition</th>\n",
       "      <th>movement</th>\n",
       "      <th>ensemble</th>\n",
       "      <th>seconds</th>\n",
       "      <th>start_time</th>\n",
       "      <th>end_time</th>\n",
       "      <th>instrument</th>\n",
       "      <th>note</th>\n",
       "      <th>start_beat</th>\n",
       "      <th>end_beat</th>\n",
       "      <th>note_value</th>\n",
       "      <th>key</th>\n",
       "      <th>note_degree</th>\n",
       "    </tr>\n",
       "  </thead>\n",
       "  <tbody>\n",
       "    <tr>\n",
       "      <th>0</th>\n",
       "      <td>1759</td>\n",
       "      <td>Piano Sonata in C minor</td>\n",
       "      <td>(tf.Tensor(0.0, shape=(), dtype=float32), tf.T...</td>\n",
       "      <td>(tf.Tensor(0.0, shape=(), dtype=float32), tf.T...</td>\n",
       "      <td>194</td>\n",
       "      <td>90078</td>\n",
       "      <td>124382</td>\n",
       "      <td>1</td>\n",
       "      <td>63</td>\n",
       "      <td>0.0</td>\n",
       "      <td>1.000</td>\n",
       "      <td>(tf.Tensor(0.0, shape=(), dtype=float32), tf.T...</td>\n",
       "      <td>0</td>\n",
       "      <td>3</td>\n",
       "    </tr>\n",
       "    <tr>\n",
       "      <th>1</th>\n",
       "      <td>1759</td>\n",
       "      <td>Piano Sonata in C minor</td>\n",
       "      <td>(tf.Tensor(0.0, shape=(), dtype=float32), tf.T...</td>\n",
       "      <td>(tf.Tensor(0.0, shape=(), dtype=float32), tf.T...</td>\n",
       "      <td>194</td>\n",
       "      <td>90078</td>\n",
       "      <td>124382</td>\n",
       "      <td>1</td>\n",
       "      <td>75</td>\n",
       "      <td>0.0</td>\n",
       "      <td>1.000</td>\n",
       "      <td>(tf.Tensor(0.0, shape=(), dtype=float32), tf.T...</td>\n",
       "      <td>0</td>\n",
       "      <td>3</td>\n",
       "    </tr>\n",
       "    <tr>\n",
       "      <th>2</th>\n",
       "      <td>1759</td>\n",
       "      <td>Piano Sonata in C minor</td>\n",
       "      <td>(tf.Tensor(0.0, shape=(), dtype=float32), tf.T...</td>\n",
       "      <td>(tf.Tensor(0.0, shape=(), dtype=float32), tf.T...</td>\n",
       "      <td>194</td>\n",
       "      <td>90078</td>\n",
       "      <td>110558</td>\n",
       "      <td>1</td>\n",
       "      <td>48</td>\n",
       "      <td>0.0</td>\n",
       "      <td>0.375</td>\n",
       "      <td>(tf.Tensor(0.0, shape=(), dtype=float32), tf.T...</td>\n",
       "      <td>0</td>\n",
       "      <td>0</td>\n",
       "    </tr>\n",
       "    <tr>\n",
       "      <th>3</th>\n",
       "      <td>1759</td>\n",
       "      <td>Piano Sonata in C minor</td>\n",
       "      <td>(tf.Tensor(0.0, shape=(), dtype=float32), tf.T...</td>\n",
       "      <td>(tf.Tensor(0.0, shape=(), dtype=float32), tf.T...</td>\n",
       "      <td>194</td>\n",
       "      <td>114654</td>\n",
       "      <td>122334</td>\n",
       "      <td>1</td>\n",
       "      <td>55</td>\n",
       "      <td>0.5</td>\n",
       "      <td>0.375</td>\n",
       "      <td>(tf.Tensor(0.0, shape=(), dtype=float32), tf.T...</td>\n",
       "      <td>0</td>\n",
       "      <td>7</td>\n",
       "    </tr>\n",
       "    <tr>\n",
       "      <th>4</th>\n",
       "      <td>1759</td>\n",
       "      <td>Piano Sonata in C minor</td>\n",
       "      <td>(tf.Tensor(0.0, shape=(), dtype=float32), tf.T...</td>\n",
       "      <td>(tf.Tensor(0.0, shape=(), dtype=float32), tf.T...</td>\n",
       "      <td>194</td>\n",
       "      <td>124382</td>\n",
       "      <td>139742</td>\n",
       "      <td>1</td>\n",
       "      <td>65</td>\n",
       "      <td>1.0</td>\n",
       "      <td>1.000</td>\n",
       "      <td>(tf.Tensor(0.0, shape=(), dtype=float32), tf.T...</td>\n",
       "      <td>0</td>\n",
       "      <td>5</td>\n",
       "    </tr>\n",
       "  </tbody>\n",
       "</table>\n",
       "</div>"
      ],
      "text/plain": [
       "     id              composition  \\\n",
       "0  1759  Piano Sonata in C minor   \n",
       "1  1759  Piano Sonata in C minor   \n",
       "2  1759  Piano Sonata in C minor   \n",
       "3  1759  Piano Sonata in C minor   \n",
       "4  1759  Piano Sonata in C minor   \n",
       "\n",
       "                                            movement  \\\n",
       "0  (tf.Tensor(0.0, shape=(), dtype=float32), tf.T...   \n",
       "1  (tf.Tensor(0.0, shape=(), dtype=float32), tf.T...   \n",
       "2  (tf.Tensor(0.0, shape=(), dtype=float32), tf.T...   \n",
       "3  (tf.Tensor(0.0, shape=(), dtype=float32), tf.T...   \n",
       "4  (tf.Tensor(0.0, shape=(), dtype=float32), tf.T...   \n",
       "\n",
       "                                            ensemble  seconds  start_time  \\\n",
       "0  (tf.Tensor(0.0, shape=(), dtype=float32), tf.T...      194       90078   \n",
       "1  (tf.Tensor(0.0, shape=(), dtype=float32), tf.T...      194       90078   \n",
       "2  (tf.Tensor(0.0, shape=(), dtype=float32), tf.T...      194       90078   \n",
       "3  (tf.Tensor(0.0, shape=(), dtype=float32), tf.T...      194      114654   \n",
       "4  (tf.Tensor(0.0, shape=(), dtype=float32), tf.T...      194      124382   \n",
       "\n",
       "   end_time  instrument  note  start_beat  end_beat  \\\n",
       "0    124382           1    63         0.0     1.000   \n",
       "1    124382           1    75         0.0     1.000   \n",
       "2    110558           1    48         0.0     0.375   \n",
       "3    122334           1    55         0.5     0.375   \n",
       "4    139742           1    65         1.0     1.000   \n",
       "\n",
       "                                          note_value key  note_degree  \n",
       "0  (tf.Tensor(0.0, shape=(), dtype=float32), tf.T...   0            3  \n",
       "1  (tf.Tensor(0.0, shape=(), dtype=float32), tf.T...   0            3  \n",
       "2  (tf.Tensor(0.0, shape=(), dtype=float32), tf.T...   0            0  \n",
       "3  (tf.Tensor(0.0, shape=(), dtype=float32), tf.T...   0            7  \n",
       "4  (tf.Tensor(0.0, shape=(), dtype=float32), tf.T...   0            5  "
      ]
     },
     "execution_count": 1,
     "metadata": {},
     "output_type": "execute_result"
    }
   ],
   "source": [
    "#final test\n",
    "import preprocessing\n",
    "data_class = preprocessing.DataClass('/Users/zyl/Desktop/CS1470/FinalProject/data/musicnet_metadata.csv', \n",
    "'/Users/zyl/Desktop/CS1470/FinalProject/data/musicnet/test_labels')\n",
    "data_class.data.head()"
   ]
  },
  {
   "cell_type": "code",
   "execution_count": 2,
   "metadata": {},
   "outputs": [
    {
     "name": "stdout",
     "output_type": "stream",
     "text": [
      "<class 'pandas.core.frame.DataFrame'>\n",
      "Int64Index: 13589 entries, 0 to 13588\n",
      "Data columns (total 14 columns):\n",
      " #   Column       Non-Null Count  Dtype  \n",
      "---  ------       --------------  -----  \n",
      " 0   id           13589 non-null  int64  \n",
      " 1   composition  13589 non-null  object \n",
      " 2   movement     13589 non-null  object \n",
      " 3   ensemble     13589 non-null  object \n",
      " 4   seconds      13589 non-null  int64  \n",
      " 5   start_time   13589 non-null  int64  \n",
      " 6   end_time     13589 non-null  int64  \n",
      " 7   instrument   13589 non-null  int64  \n",
      " 8   note         13589 non-null  int64  \n",
      " 9   start_beat   13589 non-null  float64\n",
      " 10  end_beat     13589 non-null  float64\n",
      " 11  note_value   13589 non-null  object \n",
      " 12  key          13589 non-null  object \n",
      " 13  note_degree  13589 non-null  int64  \n",
      "dtypes: float64(2), int64(7), object(5)\n",
      "memory usage: 2.1+ MB\n"
     ]
    }
   ],
   "source": [
    "data_class.data.info()"
   ]
  },
  {
   "cell_type": "code",
   "execution_count": 3,
   "metadata": {},
   "outputs": [
    {
     "data": {
      "text/plain": [
       "(13589, 38)"
      ]
     },
     "execution_count": 3,
     "metadata": {},
     "output_type": "execute_result"
    }
   ],
   "source": [
    "X = data_class.encode_nn_ready()\n",
    "X.shape"
   ]
  },
  {
   "cell_type": "code",
   "execution_count": 4,
   "metadata": {},
   "outputs": [
    {
     "data": {
      "text/plain": [
       "array([1.94000e+02, 9.00780e+04, 1.24382e+05, 1.00000e+00, 6.30000e+01,\n",
       "       0.00000e+00, 1.00000e+00, 0.00000e+00, 0.00000e+00, 0.00000e+00,\n",
       "       0.00000e+00, 0.00000e+00, 0.00000e+00, 1.00000e+00, 0.00000e+00,\n",
       "       0.00000e+00, 0.00000e+00, 0.00000e+00, 0.00000e+00, 0.00000e+00,\n",
       "       0.00000e+00, 0.00000e+00, 0.00000e+00, 0.00000e+00, 1.00000e+00,\n",
       "       0.00000e+00, 0.00000e+00, 0.00000e+00, 0.00000e+00, 0.00000e+00,\n",
       "       0.00000e+00, 0.00000e+00, 0.00000e+00, 0.00000e+00, 1.00000e+00,\n",
       "       0.00000e+00, 0.00000e+00, 3.00000e+00], dtype=float32)"
      ]
     },
     "execution_count": 4,
     "metadata": {},
     "output_type": "execute_result"
    }
   ],
   "source": [
    "example = X[0]\n",
    "example"
   ]
  },
  {
   "cell_type": "code",
   "execution_count": 5,
   "metadata": {},
   "outputs": [
    {
     "data": {
      "text/html": [
       "<div>\n",
       "<style scoped>\n",
       "    .dataframe tbody tr th:only-of-type {\n",
       "        vertical-align: middle;\n",
       "    }\n",
       "\n",
       "    .dataframe tbody tr th {\n",
       "        vertical-align: top;\n",
       "    }\n",
       "\n",
       "    .dataframe thead th {\n",
       "        text-align: right;\n",
       "    }\n",
       "</style>\n",
       "<table border=\"1\" class=\"dataframe\">\n",
       "  <thead>\n",
       "    <tr style=\"text-align: right;\">\n",
       "      <th></th>\n",
       "      <th>seconds</th>\n",
       "      <th>start_time</th>\n",
       "      <th>end_time</th>\n",
       "      <th>instrument</th>\n",
       "      <th>note</th>\n",
       "      <th>start_beat</th>\n",
       "      <th>end_beat</th>\n",
       "      <th>movement</th>\n",
       "      <th>ensemble</th>\n",
       "    </tr>\n",
       "  </thead>\n",
       "  <tbody>\n",
       "    <tr>\n",
       "      <th>0</th>\n",
       "      <td>194</td>\n",
       "      <td>90078</td>\n",
       "      <td>124382</td>\n",
       "      <td>1</td>\n",
       "      <td>63</td>\n",
       "      <td>0.0</td>\n",
       "      <td>1.0</td>\n",
       "      <td>3. Scherzo: Allegro - Trio</td>\n",
       "      <td>Accompanied Violin</td>\n",
       "    </tr>\n",
       "  </tbody>\n",
       "</table>\n",
       "</div>"
      ],
      "text/plain": [
       "   seconds  start_time  end_time  instrument  note  start_beat  end_beat  \\\n",
       "0      194       90078    124382           1    63         0.0       1.0   \n",
       "\n",
       "                     movement            ensemble  \n",
       "0  3. Scherzo: Allegro - Trio  Accompanied Violin  "
      ]
     },
     "execution_count": 5,
     "metadata": {},
     "output_type": "execute_result"
    }
   ],
   "source": [
    "decoded = data_class.decode_to_datafrom([example])\n",
    "decoded"
   ]
  }
 ],
 "metadata": {
  "kernelspec": {
   "display_name": "Python 3.9.13 ('CS1470')",
   "language": "python",
   "name": "python3"
  },
  "language_info": {
   "codemirror_mode": {
    "name": "ipython",
    "version": 3
   },
   "file_extension": ".py",
   "mimetype": "text/x-python",
   "name": "python",
   "nbconvert_exporter": "python",
   "pygments_lexer": "ipython3",
   "version": "3.9.13"
  },
  "orig_nbformat": 4,
  "vscode": {
   "interpreter": {
    "hash": "e0de7caabbb6007a24bdc3fa4de07826c6993f5e4e6a58554d232d6d66f527ae"
   }
  }
 },
 "nbformat": 4,
 "nbformat_minor": 2
}
